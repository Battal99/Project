{
 "cells": [
  {
   "cell_type": "code",
   "execution_count": 1,
   "metadata": {},
   "outputs": [],
   "source": [
    "import numpy as np\n",
    "import csv\n",
    "import matplotlib\n",
    "import matplotlib.pyplot as plt\n",
    "import math\n",
    "import sympy\n",
    "from sympy import diff\n",
    "from sympy import symbols\n",
    "from math import exp\n",
    "from math import factorial\n",
    "from math import cos\n",
    "from math import pi\n",
    "from math import log\n",
    "from math import pow"
   ]
  },
  {
   "cell_type": "code",
   "execution_count": 2,
   "metadata": {},
   "outputs": [
    {
     "name": "stdout",
     "output_type": "stream",
     "text": [
      "Date:  2019-12-31 ; Total cases:  0\n",
      "Date:  2020-01-01 ; Total cases:  0\n",
      "Date:  2020-01-02 ; Total cases:  0\n",
      "Date:  2020-01-03 ; Total cases:  0\n",
      "Date:  2020-01-04 ; Total cases:  0\n",
      "Date:  2020-01-05 ; Total cases:  0\n",
      "Date:  2020-01-06 ; Total cases:  0\n",
      "Date:  2020-01-07 ; Total cases:  0\n",
      "Date:  2020-01-08 ; Total cases:  0\n",
      "Date:  2020-01-09 ; Total cases:  0\n",
      "Date:  2020-01-10 ; Total cases:  0\n",
      "Date:  2020-01-11 ; Total cases:  0\n",
      "Date:  2020-01-12 ; Total cases:  0\n",
      "Date:  2020-01-13 ; Total cases:  0\n",
      "Date:  2020-01-14 ; Total cases:  0\n",
      "Date:  2020-01-15 ; Total cases:  0\n",
      "Date:  2020-01-16 ; Total cases:  0\n",
      "Date:  2020-01-17 ; Total cases:  0\n",
      "Date:  2020-01-18 ; Total cases:  0\n",
      "Date:  2020-01-19 ; Total cases:  0\n",
      "Date:  2020-01-20 ; Total cases:  0\n",
      "Date:  2020-01-21 ; Total cases:  0\n",
      "Date:  2020-01-22 ; Total cases:  0\n",
      "Date:  2020-01-23 ; Total cases:  0\n",
      "Date:  2020-01-24 ; Total cases:  0\n",
      "Date:  2020-01-25 ; Total cases:  0\n",
      "Date:  2020-01-26 ; Total cases:  1\n",
      "Date:  2020-01-27 ; Total cases:  1\n",
      "Date:  2020-01-28 ; Total cases:  2\n",
      "Date:  2020-01-29 ; Total cases:  3\n",
      "Date:  2020-01-30 ; Total cases:  3\n",
      "Date:  2020-01-31 ; Total cases:  3\n",
      "Date:  2020-02-01 ; Total cases:  4\n",
      "Date:  2020-02-02 ; Total cases:  4\n",
      "Date:  2020-02-03 ; Total cases:  4\n",
      "Date:  2020-02-04 ; Total cases:  4\n",
      "Date:  2020-02-05 ; Total cases:  5\n",
      "Date:  2020-02-06 ; Total cases:  5\n",
      "Date:  2020-02-07 ; Total cases:  7\n",
      "Date:  2020-02-08 ; Total cases:  7\n",
      "Date:  2020-02-09 ; Total cases:  7\n",
      "Date:  2020-02-10 ; Total cases:  7\n",
      "Date:  2020-02-11 ; Total cases:  7\n",
      "Date:  2020-02-12 ; Total cases:  7\n",
      "Date:  2020-02-13 ; Total cases:  7\n",
      "Date:  2020-02-14 ; Total cases:  7\n",
      "Date:  2020-02-15 ; Total cases:  8\n",
      "Date:  2020-02-16 ; Total cases:  8\n",
      "Date:  2020-02-17 ; Total cases:  8\n",
      "Date:  2020-02-18 ; Total cases:  8\n",
      "Date:  2020-02-19 ; Total cases:  8\n",
      "Date:  2020-02-20 ; Total cases:  8\n",
      "Date:  2020-02-21 ; Total cases:  9\n",
      "Date:  2020-02-22 ; Total cases:  9\n",
      "Date:  2020-02-23 ; Total cases:  9\n",
      "Date:  2020-02-24 ; Total cases:  9\n",
      "Date:  2020-02-25 ; Total cases:  11\n",
      "Date:  2020-02-26 ; Total cases:  11\n",
      "Date:  2020-02-27 ; Total cases:  12\n",
      "Date:  2020-02-28 ; Total cases:  14\n",
      "Date:  2020-02-29 ; Total cases:  16\n",
      "Date:  2020-03-01 ; Total cases:  20\n",
      "Date:  2020-03-02 ; Total cases:  24\n",
      "Date:  2020-03-03 ; Total cases:  27\n",
      "Date:  2020-03-04 ; Total cases:  30\n",
      "Date:  2020-03-05 ; Total cases:  33\n",
      "Date:  2020-03-06 ; Total cases:  45\n",
      "Date:  2020-03-07 ; Total cases:  51\n",
      "Date:  2020-03-08 ; Total cases:  57\n",
      "Date:  2020-03-09 ; Total cases:  62\n",
      "Date:  2020-03-10 ; Total cases:  77\n",
      "Date:  2020-03-11 ; Total cases:  93\n",
      "Date:  2020-03-12 ; Total cases:  103\n",
      "Date:  2020-03-13 ; Total cases:  138\n",
      "Date:  2020-03-14 ; Total cases:  176\n",
      "Date:  2020-03-15 ; Total cases:  244\n",
      "Date:  2020-03-16 ; Total cases:  304\n",
      "Date:  2020-03-17 ; Total cases:  424\n",
      "Date:  2020-03-18 ; Total cases:  569\n",
      "Date:  2020-03-19 ; Total cases:  690\n",
      "Date:  2020-03-20 ; Total cases:  846\n",
      "Date:  2020-03-21 ; Total cases:  971\n",
      "Date:  2020-03-22 ; Total cases:  1302\n",
      "Date:  2020-03-23 ; Total cases:  1430\n",
      "Date:  2020-03-24 ; Total cases:  1646\n",
      "Date:  2020-03-25 ; Total cases:  1959\n",
      "Date:  2020-03-26 ; Total cases:  3385\n",
      "Date:  2020-03-27 ; Total cases:  4018\n",
      "Date:  2020-03-28 ; Total cases:  4675\n",
      "Date:  2020-03-29 ; Total cases:  5386\n",
      "Date:  2020-03-30 ; Total cases:  6255\n",
      "Date:  2020-03-31 ; Total cases:  7424\n",
      "Date:  2020-04-01 ; Total cases:  8536\n",
      "Date:  2020-04-02 ; Total cases:  9595\n",
      "Date:  2020-04-03 ; Total cases:  11268\n",
      "Date:  2020-04-04 ; Total cases:  12519\n",
      "Date:  2020-04-05 ; Total cases:  13882\n",
      "Date:  2020-04-06 ; Total cases:  15496\n",
      "Date:  2020-04-07 ; Total cases:  16653\n",
      "Date:  2020-04-08 ; Total cases:  17883\n",
      "Date:  2020-04-09 ; Total cases:  19274\n",
      "Date:  2020-04-10 ; Total cases:  20748\n",
      "Date:  2020-04-11 ; Total cases:  22133\n",
      "Date:  2020-04-12 ; Total cases:  23301\n",
      "Date:  2020-04-13 ; Total cases:  24365\n",
      "Date:  2020-04-14 ; Total cases:  25663\n",
      "Date:  2020-04-15 ; Total cases:  27046\n",
      "Date:  2020-04-16 ; Total cases:  28364\n",
      "Date:  2020-04-17 ; Total cases:  30081\n",
      "Date:  2020-04-18 ; Total cases:  31872\n",
      "Date:  2020-04-19 ; Total cases:  33341\n",
      "Date:  2020-04-20 ; Total cases:  34777\n",
      "Date:  2020-04-21 ; Total cases:  36823\n",
      "Date:  2020-04-22 ; Total cases:  38413\n"
     ]
    }
   ],
   "source": [
    "total_cases = []\n",
    "with open('owid-covid-data.csv') as csvfile:\n",
    "    data = csv.reader(csvfile);\n",
    "    for row in data:\n",
    "        total_cases.append(int(row[3]))\n",
    "        print('Date: ', row[2], '; Total cases: ', row[3])"
   ]
  },
  {
   "cell_type": "code",
   "execution_count": 3,
   "metadata": {},
   "outputs": [
    {
     "name": "stdout",
     "output_type": "stream",
     "text": [
      "[    1     2     3     3     3     4     4     4     4     5     5     7\n",
      "     7     7     7     7     7     7     7     8     8     8     8     8\n",
      "     8     9     9     9     9    11    11    12    14    16    20    24\n",
      "    27    30    33    45    51    57    62    77    93   103   138   176\n",
      "   244   304   424   569   690   846   971  1302  1430  1646  1959  3385\n",
      "  4018  4675  5386  6255  7424  8536  9595 11268 12519 13882 15496 16653\n",
      " 17883 19274 20748 22133 23301 24365 25663 27046 28364 30081 31872 33341\n",
      " 34777 36823 38413]\n",
      "[ 0  1  2  3  4  5  6  7  8  9 10 11 12 13 14 15 16 17 18 19 20 21 22 23\n",
      " 24 25 26 27 28 29 30 31 32 33 34 35 36 37 38 39 40 41 42 43 44 45 46 47\n",
      " 48 49 50 51 52 53 54 55 56 57 58 59 60 61 62 63 64 65 66 67 68 69 70 71\n",
      " 72 73 74 75 76 77 78 79 80 81 82 83 84 85 86]\n"
     ]
    }
   ],
   "source": [
    "total_cases = np.array(total_cases)\n",
    "total_cases1 = total_cases[27:len(total_cases)]\n",
    "print(total_cases1)\n",
    "\n",
    "t_array = np.arange(len(total_cases1))\n",
    "print(t_array)\n"
   ]
  },
  {
   "cell_type": "code",
   "execution_count": 4,
   "metadata": {},
   "outputs": [
    {
     "name": "stdout",
     "output_type": "stream",
     "text": [
      "431462*X - 54263.824608219208\n",
      "[0.125767332020477]\n",
      "0.12576733202047738\n"
     ]
    },
    {
     "data": {
      "image/png": "[encoded data removed]",
      "text/plain": [
       "<Figure size 720x720 with 1 Axes>"
      ]
     },
     "metadata": {
      "needs_background": "light"
     },
     "output_type": "display_data"
    }
   ],
   "source": [
    "from sympy.solvers import solve\n",
    "I0 = 1\n",
    "S = ''\n",
    "# X = 10\n",
    "n = 87\n",
    "X = symbols('X')\n",
    "ylin = []\n",
    "for i in range(n):\n",
    "    ylin.append(log(total_cases1[i]) - log(I0))\n",
    "    if i != n-1:\n",
    "        S = S + ' ( ' + str(ylin[i]) + ' - ' + 'X * ' + str(t_array[i]) +' )' + '**2' + ' +'\n",
    "    else:\n",
    "        S = S + ' ( ' + str(ylin[i]) + ' - ' + 'X * ' + str(t_array[i]) +' )' + '**2'\n",
    "# print(S)\n",
    "\n",
    "dif_s = diff(S, X)\n",
    "print(dif_s)\n",
    "\n",
    "print(solve(dif_s, X))\n",
    "summ1 = 0\n",
    "summ2 = 0\n",
    "for p in range(n):\n",
    "    summ1 = summ1 + t_array[p] * ylin[p]\n",
    "    summ2 = summ2 + t_array[p]**2\n",
    "X = summ1 / summ2\n",
    "print(X)\n",
    "\n",
    "I = []\n",
    "for i in range(n):\n",
    "    I.append(I0 * np.exp(X*t_array[i]))\n",
    "\n",
    "fig, ax = plt.subplots(figsize = (10, 10))\n",
    "ax.semilogy(t_array, total_cases1, 'b', marker = 'o', label = \"count_ill\")\n",
    "ax.semilogy(t_array, I, 'r', marker = 'o', label = \"exp_model\")\n",
    "ax.legend(loc='lower center')\n",
    "ax.set_xlabel('count_time')\n",
    "ax.set_ylabel('f(x)')\n",
    "ax.grid()\n",
    "fig.savefig('gr_exp_model.jpg')\n",
    "    \n",
    "\n"
   ]
  },
  {
   "cell_type": "code",
   "execution_count": 11,
   "metadata": {},
   "outputs": [
    {
     "name": "stdout",
     "output_type": "stream",
     "text": [
      "      fun: 43873326.91419326\n",
      " hess_inv: array([[1.40314226e-09, 5.28080253e-07],\n",
      "       [5.28080253e-07, 1.67959629e-03]])\n",
      "      jac: array([-21.,   0.])\n",
      "  message: 'Desired error not necessarily achieved due to precision loss.'\n",
      "     nfev: 287\n",
      "      nit: 5\n",
      "     njev: 69\n",
      "   status: 2\n",
      "  success: False\n",
      "        x: array([2.92044311e+00, 5.10543869e+04])\n"
     ]
    },
    {
     "data": {
      "image/png": "[encoded data removed]",
      "text/plain": [
       "<Figure size 720x720 with 1 Axes>"
      ]
     },
     "metadata": {
      "needs_background": "light"
     },
     "output_type": "display_data"
    }
   ],
   "source": [
    "def sr_0(x0):\n",
    "    I0 = x0[0]\n",
    "    Iinf = x0[1]\n",
    "    a = sum([(total_cases1[i] - Iinf / (1 + (Iinf/I0 - 1)*np.exp(-X*t_array[i])))**2 for i in range(n)])\n",
    "    return a\n",
    "\n",
    "from sympy import *\n",
    "from scipy.optimize import minimize\n",
    "n = 87\n",
    "# Iinf = 0.0\n",
    "x0 = [I0, Iinf]\n",
    "res = minimize(sr_0, x0)\n",
    "print(res)\n",
    "I0 = 2.92045436\n",
    "Iinf = 51054.3867\n",
    "\n",
    "# Iinf = 68.672\n",
    "\n",
    "I_sis = []\n",
    "for i in range(n):\n",
    "    I_sis.append(Iinf / ( 1 + ( Iinf/I0 - 1) * np.exp(-X*t_array[i])))\n",
    "#     I_sis.append(1 / (7669.546 - 15313.93584 * np.exp(-X*t_array[i])))\n",
    "\n",
    "\n",
    "fig, ax = plt.subplots(figsize = (10, 10))\n",
    "ax.semilogy(t_array, total_cases1, 'b', marker = 'o', label = \"count_ill\")\n",
    "ax.semilogy(t_array, I_sis, 'r', marker = 'o', label = \"sis_model\")\n",
    "ax.legend(loc='lower center')\n",
    "ax.set_xlabel('count_time')\n",
    "ax.set_ylabel('f(x)')\n",
    "ax.grid()\n",
    "fig.savefig('gr_sis_model.jpg')"
   ]
  },
  {
   "cell_type": "code",
   "execution_count": 12,
   "metadata": {},
   "outputs": [
    {
     "name": "stdout",
     "output_type": "stream",
     "text": [
      "2006.7194208053547\n",
      "10.97544538085137\n"
     ]
    }
   ],
   "source": [
    "max_rasst = 0\n",
    "for i in range (n):\n",
    "    max_lebeg = abs(I_sis[i] - total_cases1[i])\n",
    "    if max_lebeg > max_rasst:\n",
    "        max_rasst = max_lebeg\n",
    "\n",
    "norm1 = max_rasst\n",
    "print(norm1)\n",
    "\n",
    "max_rasst_otn = 0\n",
    "for i in range (n):\n",
    "    max_lebeg2 = abs((I_sis[i] - total_cases1[i])/total_cases1[i])\n",
    "    if max_lebeg2 > max_rasst_otn:\n",
    "        max_rasst_otn = max_lebeg2\n",
    "print(max_rasst_otn)"
   ]
  },
  {
   "cell_type": "code",
   "execution_count": 13,
   "metadata": {},
   "outputs": [
    {
     "name": "stdout",
     "output_type": "stream",
     "text": [
      "11936.5406053140\n",
      "22.4347881552113\n"
     ]
    }
   ],
   "source": [
    "summ = 0\n",
    "for i in range(n):\n",
    "    summ += (I_sis[i] - total_cases[i])**2\n",
    "abs_pogr = sqrt(summ/n)\n",
    "print(abs_pogr)\n",
    "summ2 = 0.0\n",
    "for i in range(n):\n",
    "    summ2 += (total_cases[i])**2\n",
    "otn_pogr = abs_pogr / (sqrt(summ2/n))\n",
    "print(otn_pogr)"
   ]
  },
  {
   "cell_type": "markdown",
   "metadata": {},
   "source": [
    "Определим длительность эпидемии. Для этого найдем момент времени, когда число инфицированных в следующий день не выросло больше, чем на 1% относительно предыдущего дня."
   ]
  },
  {
   "cell_type": "code",
   "execution_count": 15,
   "metadata": {},
   "outputs": [
    {
     "name": "stdout",
     "output_type": "stream",
     "text": [
      "88\n"
     ]
    }
   ],
   "source": [
    "Hi = 0.125767332\n",
    "# II = 50000\n",
    "# t = - log((Iinf/II - 1) / (Iinf/I0 - 1)) / Hi\n",
    "# print(t)\n",
    "m = 10000\n",
    "I_s_inf = []\n",
    "I_s_inf.append(I_sis[n-2])\n",
    "I_s_inf.append(I_sis[n-1])\n",
    "u = 1\n",
    "while(I_s_inf[u] > 1.1 * I_s_inf[u-1]):\n",
    "    u += u\n",
    "    I_s_inf.append(Iinf / ( 1 + ( Iinf/I0 - 1) * np.exp(-X*u)))\n",
    "\n",
    "print(u+n)"
   ]
  },
  {
   "cell_type": "code",
   "execution_count": null,
   "metadata": {},
   "outputs": [],
   "source": []
  }
 ],
 "metadata": {
  "kernelspec": {
   "display_name": "Python 3",
   "language": "python",
   "name": "python3"
  },
  "language_info": {
   "codemirror_mode": {
    "name": "ipython",
    "version": 3
   },
   "file_extension": ".py",
   "mimetype": "text/x-python",
   "name": "python",
   "nbconvert_exporter": "python",
   "pygments_lexer": "ipython3",
   "version": "3.7.3"
  }
 },
 "nbformat": 4,
 "nbformat_minor": 4
}
